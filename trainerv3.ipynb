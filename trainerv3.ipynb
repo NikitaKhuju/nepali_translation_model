{
 "cells": [
  {
   "cell_type": "code",
   "execution_count": 1,
   "metadata": {},
   "outputs": [
    {
     "name": "stderr",
     "output_type": "stream",
     "text": [
      "/Users/ishanawal/miniforge3/envs/myenv/lib/python3.11/site-packages/tqdm/auto.py:21: TqdmWarning: IProgress not found. Please update jupyter and ipywidgets. See https://ipywidgets.readthedocs.io/en/stable/user_install.html\n",
      "  from .autonotebook import tqdm as notebook_tqdm\n"
     ]
    },
    {
     "name": "stdout",
     "output_type": "stream",
     "text": [
      "Using device: mps\n"
     ]
    }
   ],
   "source": [
    "from datasets import load_dataset\n",
    "import evaluate\n",
    "import torch\n",
    "from transformers import MT5ForConditionalGeneration, MT5Tokenizer, Seq2SeqTrainer, Seq2SeqTrainingArguments, DataCollatorForSeq2Seq\n",
    "from tqdm import tqdm\n",
    "import numpy as np\n",
    "import matplotlib.pyplot as plt\n",
    "\n",
    "# Set device\n",
    "if torch.backends.mps.is_available():\n",
    "    device = torch.device(\"mps\")\n",
    "else:\n",
    "    device = torch.device(\"cpu\")\n",
    "print(f\"Using device: {device}\")\n",
    "\n",
    "# Load dataset\n",
    "dataset = load_dataset(\"parquet\", data_files={\n",
    "    \"train\": \"data/iamTangsang_dataset/train-00000-of-00001.parquet\",\n",
    "    \"validation\": \"data/iamTangsang_dataset/validation-00000-of-00001.parquet\", \n",
    "    \"test\": \"data/iamTangsang_dataset/test-00000-of-00001.parquet\"\n",
    "})\n",
    "\n",
    "# Subset the data\n",
    "train_size, val_size, test_size = 50000, 5000, 2000\n",
    "dataset[\"train\"] = dataset[\"train\"].select(range(train_size))\n",
    "dataset[\"validation\"] = dataset[\"validation\"].select(range(val_size))\n",
    "dataset[\"test\"] = dataset[\"test\"].select(range(test_size))\n"
   ]
  },
  {
   "cell_type": "code",
   "execution_count": 2,
   "metadata": {},
   "outputs": [
    {
     "name": "stdout",
     "output_type": "stream",
     "text": [
      "Dataset sizes after filtering:\n",
      "Train: 49746\n",
      "Validation: 4977\n",
      "Test: 1991\n"
     ]
    }
   ],
   "source": [
    "# Filter empty or very long samples\n",
    "def is_valid_pair(example):\n",
    "    source, target = str(example[\"source\"]).strip(), str(example[\"target\"]).strip()\n",
    "    return 0 < len(source) < 300 and 0 < len(target) < 300\n",
    "\n",
    "dataset = dataset.filter(is_valid_pair)\n",
    "\n",
    "print(\"Dataset sizes after filtering:\")\n",
    "print(f\"Train: {len(dataset['train'])}\")\n",
    "print(f\"Validation: {len(dataset['validation'])}\")\n",
    "print(f\"Test: {len(dataset['test'])}\")"
   ]
  },
  {
   "cell_type": "code",
   "execution_count": 3,
   "metadata": {},
   "outputs": [
    {
     "data": {
      "text/plain": [
       "MT5ForConditionalGeneration(\n",
       "  (shared): Embedding(250112, 512)\n",
       "  (encoder): MT5Stack(\n",
       "    (embed_tokens): Embedding(250112, 512)\n",
       "    (block): ModuleList(\n",
       "      (0): MT5Block(\n",
       "        (layer): ModuleList(\n",
       "          (0): MT5LayerSelfAttention(\n",
       "            (SelfAttention): MT5Attention(\n",
       "              (q): Linear(in_features=512, out_features=384, bias=False)\n",
       "              (k): Linear(in_features=512, out_features=384, bias=False)\n",
       "              (v): Linear(in_features=512, out_features=384, bias=False)\n",
       "              (o): Linear(in_features=384, out_features=512, bias=False)\n",
       "              (relative_attention_bias): Embedding(32, 6)\n",
       "            )\n",
       "            (layer_norm): MT5LayerNorm()\n",
       "            (dropout): Dropout(p=0.1, inplace=False)\n",
       "          )\n",
       "          (1): MT5LayerFF(\n",
       "            (DenseReluDense): MT5DenseGatedActDense(\n",
       "              (wi_0): Linear(in_features=512, out_features=1024, bias=False)\n",
       "              (wi_1): Linear(in_features=512, out_features=1024, bias=False)\n",
       "              (wo): Linear(in_features=1024, out_features=512, bias=False)\n",
       "              (dropout): Dropout(p=0.1, inplace=False)\n",
       "              (act): NewGELUActivation()\n",
       "            )\n",
       "            (layer_norm): MT5LayerNorm()\n",
       "            (dropout): Dropout(p=0.1, inplace=False)\n",
       "          )\n",
       "        )\n",
       "      )\n",
       "      (1-7): 7 x MT5Block(\n",
       "        (layer): ModuleList(\n",
       "          (0): MT5LayerSelfAttention(\n",
       "            (SelfAttention): MT5Attention(\n",
       "              (q): Linear(in_features=512, out_features=384, bias=False)\n",
       "              (k): Linear(in_features=512, out_features=384, bias=False)\n",
       "              (v): Linear(in_features=512, out_features=384, bias=False)\n",
       "              (o): Linear(in_features=384, out_features=512, bias=False)\n",
       "            )\n",
       "            (layer_norm): MT5LayerNorm()\n",
       "            (dropout): Dropout(p=0.1, inplace=False)\n",
       "          )\n",
       "          (1): MT5LayerFF(\n",
       "            (DenseReluDense): MT5DenseGatedActDense(\n",
       "              (wi_0): Linear(in_features=512, out_features=1024, bias=False)\n",
       "              (wi_1): Linear(in_features=512, out_features=1024, bias=False)\n",
       "              (wo): Linear(in_features=1024, out_features=512, bias=False)\n",
       "              (dropout): Dropout(p=0.1, inplace=False)\n",
       "              (act): NewGELUActivation()\n",
       "            )\n",
       "            (layer_norm): MT5LayerNorm()\n",
       "            (dropout): Dropout(p=0.1, inplace=False)\n",
       "          )\n",
       "        )\n",
       "      )\n",
       "    )\n",
       "    (final_layer_norm): MT5LayerNorm()\n",
       "    (dropout): Dropout(p=0.1, inplace=False)\n",
       "  )\n",
       "  (decoder): MT5Stack(\n",
       "    (embed_tokens): Embedding(250112, 512)\n",
       "    (block): ModuleList(\n",
       "      (0): MT5Block(\n",
       "        (layer): ModuleList(\n",
       "          (0): MT5LayerSelfAttention(\n",
       "            (SelfAttention): MT5Attention(\n",
       "              (q): Linear(in_features=512, out_features=384, bias=False)\n",
       "              (k): Linear(in_features=512, out_features=384, bias=False)\n",
       "              (v): Linear(in_features=512, out_features=384, bias=False)\n",
       "              (o): Linear(in_features=384, out_features=512, bias=False)\n",
       "              (relative_attention_bias): Embedding(32, 6)\n",
       "            )\n",
       "            (layer_norm): MT5LayerNorm()\n",
       "            (dropout): Dropout(p=0.1, inplace=False)\n",
       "          )\n",
       "          (1): MT5LayerCrossAttention(\n",
       "            (EncDecAttention): MT5Attention(\n",
       "              (q): Linear(in_features=512, out_features=384, bias=False)\n",
       "              (k): Linear(in_features=512, out_features=384, bias=False)\n",
       "              (v): Linear(in_features=512, out_features=384, bias=False)\n",
       "              (o): Linear(in_features=384, out_features=512, bias=False)\n",
       "            )\n",
       "            (layer_norm): MT5LayerNorm()\n",
       "            (dropout): Dropout(p=0.1, inplace=False)\n",
       "          )\n",
       "          (2): MT5LayerFF(\n",
       "            (DenseReluDense): MT5DenseGatedActDense(\n",
       "              (wi_0): Linear(in_features=512, out_features=1024, bias=False)\n",
       "              (wi_1): Linear(in_features=512, out_features=1024, bias=False)\n",
       "              (wo): Linear(in_features=1024, out_features=512, bias=False)\n",
       "              (dropout): Dropout(p=0.1, inplace=False)\n",
       "              (act): NewGELUActivation()\n",
       "            )\n",
       "            (layer_norm): MT5LayerNorm()\n",
       "            (dropout): Dropout(p=0.1, inplace=False)\n",
       "          )\n",
       "        )\n",
       "      )\n",
       "      (1-7): 7 x MT5Block(\n",
       "        (layer): ModuleList(\n",
       "          (0): MT5LayerSelfAttention(\n",
       "            (SelfAttention): MT5Attention(\n",
       "              (q): Linear(in_features=512, out_features=384, bias=False)\n",
       "              (k): Linear(in_features=512, out_features=384, bias=False)\n",
       "              (v): Linear(in_features=512, out_features=384, bias=False)\n",
       "              (o): Linear(in_features=384, out_features=512, bias=False)\n",
       "            )\n",
       "            (layer_norm): MT5LayerNorm()\n",
       "            (dropout): Dropout(p=0.1, inplace=False)\n",
       "          )\n",
       "          (1): MT5LayerCrossAttention(\n",
       "            (EncDecAttention): MT5Attention(\n",
       "              (q): Linear(in_features=512, out_features=384, bias=False)\n",
       "              (k): Linear(in_features=512, out_features=384, bias=False)\n",
       "              (v): Linear(in_features=512, out_features=384, bias=False)\n",
       "              (o): Linear(in_features=384, out_features=512, bias=False)\n",
       "            )\n",
       "            (layer_norm): MT5LayerNorm()\n",
       "            (dropout): Dropout(p=0.1, inplace=False)\n",
       "          )\n",
       "          (2): MT5LayerFF(\n",
       "            (DenseReluDense): MT5DenseGatedActDense(\n",
       "              (wi_0): Linear(in_features=512, out_features=1024, bias=False)\n",
       "              (wi_1): Linear(in_features=512, out_features=1024, bias=False)\n",
       "              (wo): Linear(in_features=1024, out_features=512, bias=False)\n",
       "              (dropout): Dropout(p=0.1, inplace=False)\n",
       "              (act): NewGELUActivation()\n",
       "            )\n",
       "            (layer_norm): MT5LayerNorm()\n",
       "            (dropout): Dropout(p=0.1, inplace=False)\n",
       "          )\n",
       "        )\n",
       "      )\n",
       "    )\n",
       "    (final_layer_norm): MT5LayerNorm()\n",
       "    (dropout): Dropout(p=0.1, inplace=False)\n",
       "  )\n",
       "  (lm_head): Linear(in_features=512, out_features=250112, bias=False)\n",
       ")"
      ]
     },
     "execution_count": 3,
     "metadata": {},
     "output_type": "execute_result"
    }
   ],
   "source": [
    "# Load tokenizer and model\n",
    "checkpoint_path = \"./mt5-npi-en/checkpoint-198984\" \n",
    "tokenizer = MT5Tokenizer.from_pretrained(checkpoint_path, legacy=False)\n",
    "model = MT5ForConditionalGeneration.from_pretrained(checkpoint_path)\n",
    "model.config.use_cache = False\n",
    "model.to(device).float()"
   ]
  },
  {
   "cell_type": "code",
   "execution_count": 4,
   "metadata": {},
   "outputs": [],
   "source": [
    "# Preprocessing function\n",
    "def preprocess_function(examples):\n",
    "    inputs = [\"translate Nepali to English: \" + str(src).strip() for src in examples[\"source\"]]\n",
    "    targets = [str(tgt).strip() for tgt in examples[\"target\"]]\n",
    "    model_inputs = tokenizer(inputs, text_target=targets, max_length=256, truncation=True, padding=\"max_length\")\n",
    "    model_inputs[\"labels\"] = [\n",
    "        [(token_id if token_id != tokenizer.pad_token_id else -100) for token_id in label]\n",
    "        for label in model_inputs[\"labels\"]\n",
    "    ]\n",
    "    return model_inputs"
   ]
  },
  {
   "cell_type": "code",
   "execution_count": 5,
   "metadata": {},
   "outputs": [
    {
     "name": "stderr",
     "output_type": "stream",
     "text": [
      "Map: 100%|██████████| 49746/49746 [00:37<00:00, 1332.15 examples/s]\n",
      "Map: 100%|██████████| 4977/4977 [00:03<00:00, 1378.38 examples/s]\n",
      "Map: 100%|██████████| 1991/1991 [00:01<00:00, 1370.38 examples/s]\n"
     ]
    }
   ],
   "source": [
    "# Tokenize datasets\n",
    "tokenized_dataset = dataset.map(preprocess_function, batched=True, remove_columns=dataset[\"train\"].column_names)\n",
    "tokenized_dataset.set_format(type=\"torch\")"
   ]
  },
  {
   "cell_type": "code",
   "execution_count": 6,
   "metadata": {},
   "outputs": [],
   "source": [
    "bleu = evaluate.load(\"bleu\")\n",
    "\n",
    "def postprocess_text(preds, labels):\n",
    "    preds = [pred.strip() for pred in preds]\n",
    "    labels = [[label.strip()] for label in labels]\n",
    "    return preds, labels\n",
    "\n",
    "def compute_metrics(eval_preds):\n",
    "    preds, labels = eval_preds\n",
    "    decoded_preds = tokenizer.batch_decode(preds, skip_special_tokens=True)\n",
    "    decoded_labels = tokenizer.batch_decode(labels, skip_special_tokens=True)\n",
    "\n",
    "    decoded_preds, decoded_labels = postprocess_text(decoded_preds, decoded_labels)\n",
    "    bleu_score = bleu.compute(predictions=decoded_preds, references=decoded_labels)[\"bleu\"]\n",
    "    return {\"bleu\": bleu_score}\n"
   ]
  },
  {
   "cell_type": "code",
   "execution_count": 7,
   "metadata": {},
   "outputs": [],
   "source": [
    "# Data collator\n",
    "class CustomDataCollator(DataCollatorForSeq2Seq):\n",
    "    def __call__(self, features, return_tensors=None):\n",
    "        batch = super().__call__(features, return_tensors=return_tensors)\n",
    "        # Convert labels to tensor safely\n",
    "        if isinstance(batch[\"labels\"], list):\n",
    "            labels = [np.array(x, dtype=np.int64) for x in batch[\"labels\"]]\n",
    "            batch[\"labels\"] = torch.tensor(labels)\n",
    "        return {k: v.to(device) if isinstance(v, torch.Tensor) else v for k, v in batch.items()}\n",
    "\n",
    "\n",
    "\n",
    "data_collator = CustomDataCollator(tokenizer=tokenizer, model=model)\n"
   ]
  },
  {
   "cell_type": "code",
   "execution_count": 8,
   "metadata": {},
   "outputs": [],
   "source": [
    "# Training arguments\n",
    "training_args = Seq2SeqTrainingArguments(\n",
    "    output_dir=\"./mt5-npi-en\",\n",
    "    eval_strategy=\"epoch\",\n",
    "    save_strategy=\"epoch\",\n",
    "    logging_strategy=\"epoch\",\n",
    "    logging_dir=\"./logs\",\n",
    "    logging_steps=500,\n",
    "    learning_rate=1e-4,\n",
    "    per_device_train_batch_size=2,\n",
    "    per_device_eval_batch_size=2,\n",
    "    resume_from_checkpoint=True,\n",
    "    num_train_epochs=10,\n",
    "    generation_max_length=280,\n",
    "    weight_decay=0.01,\n",
    "    save_total_limit=3,\n",
    "    warmup_steps=500,\n",
    "    predict_with_generate=True,\n",
    "    dataloader_pin_memory=False,\n",
    "    fp16=False,\n",
    "    dataloader_num_workers=0,\n",
    "    remove_unused_columns=False,\n",
    "    use_cpu=False,\n",
    "    report_to=None,\n",
    ")\n"
   ]
  },
  {
   "cell_type": "code",
   "execution_count": 9,
   "metadata": {},
   "outputs": [],
   "source": [
    "class CustomTrainer(Seq2SeqTrainer):\n",
    "    def __init__(self, *args, **kwargs):\n",
    "        super().__init__(*args, **kwargs)\n",
    "        self.train_losses = []\n",
    "        self.eval_losses = []\n",
    "        self.bleu_scores = []\n",
    "\n",
    "    def log(self, logs, step=None, **kwargs):\n",
    "        super().log(logs)\n",
    "        if \"loss\" in logs:\n",
    "            self.train_losses.append(logs[\"loss\"])\n",
    "\n",
    "    def evaluate(self, *args, **kwargs):\n",
    "        metrics = super().evaluate(*args, **kwargs)\n",
    "        self.eval_losses.append(metrics.get(\"eval_loss\", None))\n",
    "        return metrics\n",
    "\n",
    "    def save_metrics_plot(self):\n",
    "        epochs = list(range(1, len(self.eval_losses) + 1))\n",
    "\n",
    "        plt.figure(figsize=(10, 6))\n",
    "        plt.plot(self.train_losses, label=\"Training Loss\", marker=\"o\")\n",
    "        plt.plot(epochs, self.eval_losses, label=\"Validation Loss\", marker=\"o\")\n",
    "        plt.xlabel(\"Epoch\")\n",
    "        plt.ylabel(\"Metric Value\")\n",
    "        plt.title(\"Training Metrics\")\n",
    "        plt.legend()\n",
    "        plt.grid(True)\n",
    "        plt.tight_layout()\n",
    "        plt.savefig(\"training_metrics.png\")\n",
    "        plt.show()\n"
   ]
  },
  {
   "cell_type": "code",
   "execution_count": 10,
   "metadata": {},
   "outputs": [
    {
     "name": "stderr",
     "output_type": "stream",
     "text": [
      "/var/folders/mb/dzlftm2s7f70n50rgqtnzkq80000gn/T/ipykernel_3057/662922639.py:3: FutureWarning: `tokenizer` is deprecated and will be removed in version 5.0.0 for `CustomTrainer.__init__`. Use `processing_class` instead.\n",
      "  super().__init__(*args, **kwargs)\n"
     ]
    }
   ],
   "source": [
    "# Trainer setup\n",
    "trainer = CustomTrainer(\n",
    "    model=model,\n",
    "    args=training_args,\n",
    "    train_dataset=tokenized_dataset[\"train\"],\n",
    "    eval_dataset=tokenized_dataset[\"validation\"],\n",
    "    tokenizer=tokenizer,\n",
    "    data_collator=data_collator,\n",
    ")"
   ]
  },
  {
   "cell_type": "code",
   "execution_count": 11,
   "metadata": {},
   "outputs": [
    {
     "name": "stderr",
     "output_type": "stream",
     "text": [
      "There were missing keys in the checkpoint model loaded: ['encoder.embed_tokens.weight', 'decoder.embed_tokens.weight'].\n",
      "/Users/ishanawal/miniforge3/envs/myenv/lib/python3.11/site-packages/transformers/data/data_collator.py:741: UserWarning: Creating a tensor from a list of numpy.ndarrays is extremely slow. Please consider converting the list to a single numpy.ndarray with numpy.array() before converting to a tensor. (Triggered internally at /Users/runner/work/pytorch/pytorch/pytorch/torch/csrc/utils/tensor_new.cpp:257.)\n",
      "  batch[\"labels\"] = torch.tensor(batch[\"labels\"], dtype=torch.int64)\n"
     ]
    },
    {
     "data": {
      "text/html": [
       "\n",
       "    <div>\n",
       "      \n",
       "      <progress value='248730' max='248730' style='width:300px; height:20px; vertical-align: middle;'></progress>\n",
       "      [248730/248730 14:31:49, Epoch 10/10]\n",
       "    </div>\n",
       "    <table border=\"1\" class=\"dataframe\">\n",
       "  <thead>\n",
       " <tr style=\"text-align: left;\">\n",
       "      <th>Epoch</th>\n",
       "      <th>Training Loss</th>\n",
       "      <th>Validation Loss</th>\n",
       "    </tr>\n",
       "  </thead>\n",
       "  <tbody>\n",
       "    <tr>\n",
       "      <td>9</td>\n",
       "      <td>2.101200</td>\n",
       "      <td>1.852742</td>\n",
       "    </tr>\n",
       "    <tr>\n",
       "      <td>10</td>\n",
       "      <td>2.075600</td>\n",
       "      <td>1.846618</td>\n",
       "    </tr>\n",
       "  </tbody>\n",
       "</table><p>"
      ],
      "text/plain": [
       "<IPython.core.display.HTML object>"
      ]
     },
     "metadata": {},
     "output_type": "display_data"
    },
    {
     "data": {
      "text/plain": [
       "TrainOutput(global_step=248730, training_loss=0.4176864722791782, metrics={'train_runtime': 52311.0045, 'train_samples_per_second': 9.51, 'train_steps_per_second': 4.755, 'total_flos': 1.315159106125824e+17, 'train_loss': 0.4176864722791782, 'epoch': 10.0})"
      ]
     },
     "execution_count": 11,
     "metadata": {},
     "output_type": "execute_result"
    }
   ],
   "source": [
    "trainer.train(resume_from_checkpoint=True)"
   ]
  },
  {
   "cell_type": "code",
   "execution_count": 12,
   "metadata": {},
   "outputs": [
    {
     "data": {
      "image/png": "[encoded data removed]",
      "text/plain": [
       "<Figure size 1000x600 with 1 Axes>"
      ]
     },
     "metadata": {},
     "output_type": "display_data"
    }
   ],
   "source": [
    "trainer.save_model(\"./mt5-npi-en\")\n",
    "tokenizer.save_pretrained(\"./mt5-npi-en\")\n",
    "trainer.save_metrics_plot()"
   ]
  },
  {
   "cell_type": "code",
   "execution_count": 13,
   "metadata": {},
   "outputs": [
    {
     "data": {
      "text/html": [
       "\n",
       "    <div>\n",
       "      \n",
       "      <progress value='996' max='996' style='width:300px; height:20px; vertical-align: middle;'></progress>\n",
       "      [996/996 01:50]\n",
       "    </div>\n",
       "    "
      ],
      "text/plain": [
       "<IPython.core.display.HTML object>"
      ]
     },
     "metadata": {},
     "output_type": "display_data"
    },
    {
     "name": "stdout",
     "output_type": "stream",
     "text": [
      "Test Evaluation: {'eval_loss': 1.8241080045700073, 'eval_runtime': 110.2751, 'eval_samples_per_second': 18.055, 'eval_steps_per_second': 9.032, 'epoch': 10.0}\n"
     ]
    }
   ],
   "source": [
    "test_results = trainer.evaluate(eval_dataset=tokenized_dataset[\"test\"])\n",
    "print(\"Test Evaluation:\", test_results)"
   ]
  },
  {
   "cell_type": "code",
   "execution_count": 14,
   "metadata": {},
   "outputs": [
    {
     "name": "stderr",
     "output_type": "stream",
     "text": [
      "Generating translations: 100%|██████████| 498/498 [19:55<00:00,  2.40s/it] \n"
     ]
    },
    {
     "name": "stdout",
     "output_type": "stream",
     "text": [
      "\n",
      "Source: यसबाट युवकहरु पनि पीडित भएको देखिन्छन ।\n",
      "Reference: Young people also suffer from it.\n",
      "Predicted: The young people are also injured.\n",
      "\n",
      "Source: बजाऊने लिस्ट\n",
      "Reference: Playlist\n",
      "Predicted: Writing List\n",
      "\n",
      "Source: त्यहाँ केही नियमहरू छन् जुन तपाईंले पछ्याउनु पर्छः\n",
      "Reference: There are a few rules that you should follow:\n",
      "Predicted: There are some rules you need to follow:\n",
      "\n",
      "Source: सबै गीतहरु उनी आफैंले लेखेका हुन् ।\n",
      "Reference: All songs were written by himself.\n",
      "Predicted: He wrote all the songs.\n",
      "\n",
      "Source: मेरो एउटा जर्मन साथी छ ।\n",
      "Reference: I had a German friend.\n",
      "Predicted: I have a German friend.\n",
      "\n",
      "Source: तपाईँ वास्तवमै फाइल मेट्न चाहनुहुन्छ?\n",
      "\n",
      "Reference: Do you really want to delete file ?\n",
      "\n",
      "Predicted: Do you want to delete the file?\n",
      "\n",
      "Source: यस कुरालाई लिएर आक्रोशित हुनुपर्ने कुनै आवश्यकता छैन ।\n",
      "Reference: There is no need to get upset about this.\n",
      "Predicted: There is no need to be afraid of this.\n",
      "\n",
      "Source: पुरुष र महिला दुबैले यसको लाभ उठाउन सक्छन्।\n",
      "Reference: Both women and men can take advantage of them.\n",
      "Predicted: Both men and women can benefit from this.\n",
      "\n",
      "Source: तपाईं त नर्तक हुनुहुन्थ्यो, गीत कसरी गाउन थाल्नुभयो ?\n",
      "Reference: You started off as a dancer, how did you end up singing?\n",
      "Predicted: How did you be a singer, how did you play the song?\n",
      "\n",
      "Source: आंशिक खोजी नतिजाहरू (बढोत्तरित खोजी) देखाउनुहोस्\n",
      "Reference: Show partial search results (incremental search)\n",
      "Predicted: Show initial search results (complete search)\n",
      "\n",
      "Source: खेल सबै बन्द छ ।\n",
      "Reference: all the games are closed.\n",
      "Predicted: The game is all closed.\n",
      "\n",
      "Source: घरमा, तिम्री पत्नी अङ्गुरको विरूवा जस्तो फलधायक हुनेछ।, तिम्रा छोरा-छोरीहरू तिमीले टेबल वरिपरि रोपेको फलदायक जैतूनको झ्याङ्गहरू झैं हुनेछन्।\n",
      "\n",
      "Reference: Your wife will be as a fruitful vine, in the innermost parts of your house; your children like olive plants, around your table.\n",
      "\n",
      "Predicted: In the house, your wife will be a sheep, like a sheep, like a sheep, like a sheep, like a sheep, like a sheep, like a sheep, like a sheep, like a sheep, like a sheep, like a sheep.\n",
      "\n",
      "Source: प्राय सबै अवस्थाहरूमा, तपाईले धेरै कपहरू बीचको बलहरू हटाउन धेरै पटक रोक्नु पर्छ।\n",
      "Reference: In almost all situations, you need to pull over several times to remove the balls between several cups.\n",
      "Predicted: In all cases, you have to stop a lot of shots between a lot of shots.\n",
      "\n",
      "Source: हालको अग्रभूमि रङ थप गर्नुहोस्\n",
      "\n",
      "Reference: Add current foreground color\n",
      "\n",
      "Predicted: Add current background color\n",
      "\n",
      "Source: विषयवस्तु निर्दिष्ट गरिएको छैन\n",
      "\n",
      "Reference: No Subject Specified\n",
      "\n",
      "Predicted: No theme specified\n",
      "\n",
      "Source: उनीहरूले एकअर्कालाई घृणाको नजरले हेर्ने गरेका छन् ।\n",
      "Reference: They stared at each other with hate.\n",
      "Predicted: They look at each other with fear.\n",
      "\n",
      "Source: म्यानमारका गाउँलेहरू आफ्ना विकास योजनाहरू फेसबुकमार्फत् प्रसारित गर्छन् \n",
      "\n",
      "Reference: Myanmar Rural Villagers Share Their Development Plans Through Facebook \n",
      "\n",
      "Predicted: The villages of Myanmar are developing their development plans through Facebook.\n",
      "\n",
      "Source: हालको सन्देश रद्दीटोकरी पत्रमञ्जूषामा सार्नुहोस्\n",
      "Reference: Move the current message to Trash mailbox\n",
      "Predicted: Move the current message to a cryptographic mailbox\n",
      "\n",
      "Source: यस्तो कुपनहरु ड्रग स्टोरहरुमा धेरै पाईन्छ।\n",
      "Reference: There are a lot of such drugs in pharmacies.\n",
      "Predicted: There are a lot of such tricks in the cars.\n",
      "\n",
      "Source: बगबडि सञ्चालन गर्न सकिएन ।\n",
      "\n",
      "Reference: Bug Buddy could not be run.\n",
      "\n",
      "Predicted: Could not operate the bicycle.\n",
      "Test BLEU: 0.17580795929822765\n"
     ]
    }
   ],
   "source": [
    "# Evaluation with BLEU\n",
    "bleu = evaluate.load(\"bleu\")\n",
    "model.eval()\n",
    "sources, references = dataset[\"test\"][\"source\"], dataset[\"test\"][\"target\"]\n",
    "predictions, batch_size = [], 4\n",
    "\n",
    "for i in tqdm(range(0, len(sources), batch_size), desc=\"Generating translations\"):\n",
    "    batch_inputs = [\"translate Nepali to English: \" + s for s in sources[i:i+batch_size]]\n",
    "    inputs = tokenizer(batch_inputs, return_tensors=\"pt\", padding=True, truncation=True, max_length=280).to(device)\n",
    "    with torch.no_grad():\n",
    "        outputs = model.generate(**inputs, max_length=280, num_beams=4)\n",
    "    predictions.extend(tokenizer.batch_decode(outputs, skip_special_tokens=True))\n",
    "\n",
    "# Print samples and compute BLEU\n",
    "for i in range(min(20, len(sources))):\n",
    "    print(f\"\\nSource: {sources[i]}\\nReference: {references[i]}\\nPredicted: {predictions[i]}\")\n",
    "print(\"Test BLEU:\", bleu.compute(predictions=[p.strip() for p in predictions], references=[[r.strip()] for r in references])[\"bleu\"])\n"
   ]
  }
 ],
 "metadata": {
  "kernelspec": {
   "display_name": "myenv",
   "language": "python",
   "name": "python3"
  },
  "language_info": {
   "codemirror_mode": {
    "name": "ipython",
    "version": 3
   },
   "file_extension": ".py",
   "mimetype": "text/x-python",
   "name": "python",
   "nbconvert_exporter": "python",
   "pygments_lexer": "ipython3",
   "version": "3.11.11"
  }
 },
 "nbformat": 4,
 "nbformat_minor": 2
}
