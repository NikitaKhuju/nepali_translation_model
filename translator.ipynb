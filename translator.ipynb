{
 "cells": [
  {
   "cell_type": "code",
   "execution_count": 1,
   "metadata": {},
   "outputs": [
    {
     "name": "stderr",
     "output_type": "stream",
     "text": [
      "/Users/ishanawal/miniforge3/envs/myenv/lib/python3.11/site-packages/tqdm/auto.py:21: TqdmWarning: IProgress not found. Please update jupyter and ipywidgets. See https://ipywidgets.readthedocs.io/en/stable/user_install.html\n",
      "  from .autonotebook import tqdm as notebook_tqdm\n",
      "100%|██████████| 253/253 [17:16<00:00,  4.09s/it]"
     ]
    },
    {
     "name": "stdout",
     "output_type": "stream",
     "text": [
      "\n",
      "✅ Test BLEU score on FLORES Nepali → English: 9.44\n"
     ]
    },
    {
     "name": "stderr",
     "output_type": "stream",
     "text": [
      "\n"
     ]
    }
   ],
   "source": [
    "import torch\n",
    "from transformers import MT5ForConditionalGeneration, MT5Tokenizer\n",
    "from sacrebleu import corpus_bleu\n",
    "from tqdm import tqdm\n",
    "\n",
    "# === Load FLORES-200 test files ===\n",
    "flores_path = \"./data/flores200_dataset/devtest/\"  # update if different\n",
    "\n",
    "with open(f\"{flores_path}/npi_Deva.devtest\", encoding=\"utf-8\") as f:\n",
    "    sources = [line.strip() for line in f]\n",
    "\n",
    "with open(f\"{flores_path}/eng_Latn.devtest\", encoding=\"utf-8\") as f:\n",
    "    references = [line.strip() for line in f]\n",
    "\n",
    "# === Load model and tokenizer ===\n",
    "model_path = \"./mt5-npi-en\"\n",
    "device = torch.device(\"mps\")\n",
    "\n",
    "tokenizer = MT5Tokenizer.from_pretrained(model_path)\n",
    "model = MT5ForConditionalGeneration.from_pretrained(model_path).to(device)\n",
    "model.eval()\n",
    "\n",
    "# === Translation function ===\n",
    "def translate_nepali_to_english(texts):\n",
    "    if isinstance(texts, str):\n",
    "        texts = [texts]\n",
    "    \n",
    "    inputs = [\"translate Nepali to English: \" + t for t in texts]\n",
    "    encoding = tokenizer(\n",
    "        inputs,\n",
    "        return_tensors=\"pt\",\n",
    "        padding=True,\n",
    "        truncation=True,\n",
    "        max_length=300\n",
    "    ).to(device)\n",
    "\n",
    "    with torch.no_grad():\n",
    "        outputs = model.generate(\n",
    "            input_ids=encoding[\"input_ids\"],\n",
    "            attention_mask=encoding[\"attention_mask\"],\n",
    "            max_length=300,\n",
    "            num_beams=4\n",
    "        )\n",
    "\n",
    "    return tokenizer.batch_decode(outputs, skip_special_tokens=True)\n",
    "\n",
    "# === Batch inference ===\n",
    "batch_size = 4\n",
    "predictions = []\n",
    "\n",
    "for i in tqdm(range(0, len(sources), batch_size)):\n",
    "    batch = sources[i:i + batch_size]\n",
    "    preds = translate_nepali_to_english(batch)\n",
    "    predictions.extend(preds)\n",
    "\n",
    "# === Evaluate BLEU ===\n",
    "bleu = corpus_bleu(predictions, [references])\n",
    "print(f\"\\n✅ Test BLEU score on FLORES Nepali → English: {bleu.score:.2f}\")\n"
   ]
  }
 ],
 "metadata": {
  "kernelspec": {
   "display_name": "myenv",
   "language": "python",
   "name": "python3"
  },
  "language_info": {
   "codemirror_mode": {
    "name": "ipython",
    "version": 3
   },
   "file_extension": ".py",
   "mimetype": "text/x-python",
   "name": "python",
   "nbconvert_exporter": "python",
   "pygments_lexer": "ipython3",
   "version": "3.11.11"
  }
 },
 "nbformat": 4,
 "nbformat_minor": 2
}
